{
  "nbformat": 4,
  "nbformat_minor": 0,
  "metadata": {
    "colab": {
      "name": "Pytorch_tutorial.ipynb",
      "provenance": [],
      "authorship_tag": "ABX9TyMWNJMGR2kUeDdZRM1A6n+U",
      "include_colab_link": true
    },
    "kernelspec": {
      "name": "python3",
      "display_name": "Python 3"
    }
  },
  "cells": [
    {
      "cell_type": "markdown",
      "metadata": {
        "id": "view-in-github",
        "colab_type": "text"
      },
      "source": [
        "<a href=\"https://colab.research.google.com/github/matsunagadaiki151/Pytorch_NLP_Basic/blob/master/Pytorch_tutorial.ipynb\" target=\"_parent\"><img src=\"https://colab.research.google.com/assets/colab-badge.svg\" alt=\"Open In Colab\"/></a>"
      ]
    },
    {
      "cell_type": "markdown",
      "metadata": {
        "id": "4PwFLT6bxBkt",
        "colab_type": "text"
      },
      "source": [
        "# Pytorch Tutorial"
      ]
    },
    {
      "cell_type": "markdown",
      "metadata": {
        "id": "3x537hSzx5_5",
        "colab_type": "text"
      },
      "source": [
        "詳しくは[これ](https://pytorch.org/tutorials/beginner/blitz/tensor_tutorial.html#sphx-glr-beginner-blitz-tensor-tutorial-py)を見てください。\n"
      ]
    },
    {
      "cell_type": "markdown",
      "metadata": {
        "id": "F5IHVPuEyLuP",
        "colab_type": "text"
      },
      "source": [
        "## 1 : torchとは何か？"
      ]
    },
    {
      "cell_type": "markdown",
      "metadata": {
        "id": "gGk6_Q68yTh_",
        "colab_type": "text"
      },
      "source": [
        "torchとは**GPUが使えて微分演算ができるnumpyみたいなもの**です。 \\\n",
        "pytorchでは基本的にこのtorchを使ってディープラーニングの実装をしていきます。"
      ]
    },
    {
      "cell_type": "code",
      "metadata": {
        "id": "ITAuw4pIw9tg",
        "colab_type": "code",
        "colab": {}
      },
      "source": [
        "# torchをimportする。\n",
        "import torch"
      ],
      "execution_count": 1,
      "outputs": []
    },
    {
      "cell_type": "markdown",
      "metadata": {
        "id": "aV4lyXzEzgtg",
        "colab_type": "text"
      },
      "source": [
        "torchは以下のように初期化します。"
      ]
    },
    {
      "cell_type": "code",
      "metadata": {
        "id": "jNU5ErUTxMSI",
        "colab_type": "code",
        "colab": {
          "base_uri": "https://localhost:8080/",
          "height": 102
        },
        "outputId": "4ea46f1d-fb6d-4abb-8302-05b0ceaf5285"
      },
      "source": [
        "# 初期化されていない5×3の行列\n",
        "x = torch.empty(5, 3)\n",
        "\n",
        "print(x)"
      ],
      "execution_count": 2,
      "outputs": [
        {
          "output_type": "stream",
          "text": [
            "tensor([[2.9338e-35, 0.0000e+00, 3.3631e-44],\n",
            "        [0.0000e+00,        nan, 0.0000e+00],\n",
            "        [1.1578e+27, 1.1362e+30, 7.1547e+22],\n",
            "        [4.5828e+30, 1.2121e+04, 7.1846e+22],\n",
            "        [9.2198e-39, 7.0374e+22, 1.0436e-35]])\n"
          ],
          "name": "stdout"
        }
      ]
    },
    {
      "cell_type": "code",
      "metadata": {
        "id": "qf1mXDVixRJL",
        "colab_type": "code",
        "colab": {
          "base_uri": "https://localhost:8080/",
          "height": 102
        },
        "outputId": "4200255d-479e-4b34-f74a-1dbbd1710846"
      },
      "source": [
        "# 乱数で初期化された5×3の行列\n",
        "x = torch.rand(5, 3)\n",
        "print(x)"
      ],
      "execution_count": 3,
      "outputs": [
        {
          "output_type": "stream",
          "text": [
            "tensor([[0.1873, 0.4824, 0.6154],\n",
            "        [0.0520, 0.0855, 0.2982],\n",
            "        [0.3572, 0.7888, 0.0967],\n",
            "        [0.6053, 0.4391, 0.0009],\n",
            "        [0.1611, 0.7614, 0.2677]])\n"
          ],
          "name": "stdout"
        }
      ]
    },
    {
      "cell_type": "code",
      "metadata": {
        "id": "QApLwZuuxZhI",
        "colab_type": "code",
        "colab": {
          "base_uri": "https://localhost:8080/",
          "height": 102
        },
        "outputId": "015a1d83-5fb1-456d-f495-d7c22b304e21"
      },
      "source": [
        "# 0で初期化された5×3の行列\n",
        "x = torch.zeros(5, 3, dtype=torch.long)\n",
        "print(x)"
      ],
      "execution_count": 4,
      "outputs": [
        {
          "output_type": "stream",
          "text": [
            "tensor([[0, 0, 0],\n",
            "        [0, 0, 0],\n",
            "        [0, 0, 0],\n",
            "        [0, 0, 0],\n",
            "        [0, 0, 0]])\n"
          ],
          "name": "stdout"
        }
      ]
    },
    {
      "cell_type": "code",
      "metadata": {
        "id": "NGAsUO-nzAfi",
        "colab_type": "code",
        "colab": {
          "base_uri": "https://localhost:8080/",
          "height": 51
        },
        "outputId": "89cff469-2738-4484-bca3-dd90310b6afa"
      },
      "source": [
        "a = [[5, 3, 4],\n",
        "     [6, 4, 5]]\n",
        "# 任意の値で初期化された行列\n",
        "x = torch.tensor(a)\n",
        "print(x)"
      ],
      "execution_count": 5,
      "outputs": [
        {
          "output_type": "stream",
          "text": [
            "tensor([[5, 3, 4],\n",
            "        [6, 4, 5]])\n"
          ],
          "name": "stdout"
        }
      ]
    },
    {
      "cell_type": "markdown",
      "metadata": {
        "id": "ILBT_kPGz20P",
        "colab_type": "text"
      },
      "source": [
        "torchの重要な処理"
      ]
    },
    {
      "cell_type": "code",
      "metadata": {
        "id": "yjha_wTS0ubq",
        "colab_type": "code",
        "colab": {
          "base_uri": "https://localhost:8080/",
          "height": 102
        },
        "outputId": "b01b97ab-af3a-41c8-ab0c-127e44caa7b7"
      },
      "source": [
        "x = torch.rand(4, 3)\n",
        "y = torch.rand(4, 3)\n",
        "\n",
        "# 形状を確認する。(一番重要!!)\n",
        "print(x.shape)\n",
        "print(x.size())\n",
        "\n",
        "print('-'*40)\n",
        "\n",
        "# 任意のインデックスの形状を確認する。\n",
        "print(x.shape[0])\n",
        "print(x.shape[1])"
      ],
      "execution_count": 6,
      "outputs": [
        {
          "output_type": "stream",
          "text": [
            "torch.Size([4, 3])\n",
            "torch.Size([4, 3])\n",
            "----------------------------------------\n",
            "4\n",
            "3\n"
          ],
          "name": "stdout"
        }
      ]
    },
    {
      "cell_type": "code",
      "metadata": {
        "id": "pCjcuCD0zSv0",
        "colab_type": "code",
        "colab": {
          "base_uri": "https://localhost:8080/",
          "height": 221
        },
        "outputId": "e1528a69-f028-4f80-eff3-9d4cbffa6a4d"
      },
      "source": [
        "# 加算\n",
        "print(x + y)\n",
        "print(y.add_(x))\n",
        "print(torch.add(x, y))"
      ],
      "execution_count": 7,
      "outputs": [
        {
          "output_type": "stream",
          "text": [
            "tensor([[1.2092, 0.5111, 0.6270],\n",
            "        [1.2574, 1.2392, 1.7006],\n",
            "        [0.7365, 0.6379, 0.6882],\n",
            "        [0.9789, 1.5794, 0.2049]])\n",
            "tensor([[1.2092, 0.5111, 0.6270],\n",
            "        [1.2574, 1.2392, 1.7006],\n",
            "        [0.7365, 0.6379, 0.6882],\n",
            "        [0.9789, 1.5794, 0.2049]])\n",
            "tensor([[1.5991, 0.7064, 0.9342],\n",
            "        [1.7670, 1.7095, 2.6538],\n",
            "        [1.3855, 0.6854, 1.1547],\n",
            "        [1.7024, 2.2403, 0.3360]])\n"
          ],
          "name": "stdout"
        }
      ]
    },
    {
      "cell_type": "code",
      "metadata": {
        "id": "JyOi74CI0pyN",
        "colab_type": "code",
        "colab": {
          "base_uri": "https://localhost:8080/",
          "height": 136
        },
        "outputId": "3a084aff-9483-4dd4-834a-542a89afe710"
      },
      "source": [
        "# 形状を変更する。\n",
        "z = x.view(2, 6)  # 4×3 → 2×6\n",
        "print(z)\n",
        "print(z.shape)\n",
        "\n",
        "z = x.view(2, -1)  ## 4×3 → 2×?\n",
        "\n",
        "print('-'*40)\n",
        "print(z)\n",
        "print(z.shape)"
      ],
      "execution_count": 8,
      "outputs": [
        {
          "output_type": "stream",
          "text": [
            "tensor([[0.3899, 0.1953, 0.3071, 0.5096, 0.4703, 0.9532],\n",
            "        [0.6491, 0.0475, 0.4665, 0.7235, 0.6609, 0.1311]])\n",
            "torch.Size([2, 6])\n",
            "----------------------------------------\n",
            "tensor([[0.3899, 0.1953, 0.3071, 0.5096, 0.4703, 0.9532],\n",
            "        [0.6491, 0.0475, 0.4665, 0.7235, 0.6609, 0.1311]])\n",
            "torch.Size([2, 6])\n"
          ],
          "name": "stdout"
        }
      ]
    },
    {
      "cell_type": "code",
      "metadata": {
        "id": "ZkLZInFY1Y21",
        "colab_type": "code",
        "colab": {
          "base_uri": "https://localhost:8080/",
          "height": 272
        },
        "outputId": "85eb9773-49ac-4ec8-8e05-50140215896f"
      },
      "source": [
        "## 行列を結合する。\n",
        "z = torch.cat([x, y])\n",
        "print(z)\n",
        "print(z.shape)\n",
        "\n",
        "print('-'*40)\n",
        "\n",
        "z = torch.cat([x, y], dim=1)\n",
        "print(z)\n",
        "print(z.shape)"
      ],
      "execution_count": 9,
      "outputs": [
        {
          "output_type": "stream",
          "text": [
            "tensor([[0.3899, 0.1953, 0.3071],\n",
            "        [0.5096, 0.4703, 0.9532],\n",
            "        [0.6491, 0.0475, 0.4665],\n",
            "        [0.7235, 0.6609, 0.1311],\n",
            "        [1.2092, 0.5111, 0.6270],\n",
            "        [1.2574, 1.2392, 1.7006],\n",
            "        [0.7365, 0.6379, 0.6882],\n",
            "        [0.9789, 1.5794, 0.2049]])\n",
            "torch.Size([8, 3])\n",
            "----------------------------------------\n",
            "tensor([[0.3899, 0.1953, 0.3071, 1.2092, 0.5111, 0.6270],\n",
            "        [0.5096, 0.4703, 0.9532, 1.2574, 1.2392, 1.7006],\n",
            "        [0.6491, 0.0475, 0.4665, 0.7365, 0.6379, 0.6882],\n",
            "        [0.7235, 0.6609, 0.1311, 0.9789, 1.5794, 0.2049]])\n",
            "torch.Size([4, 6])\n"
          ],
          "name": "stdout"
        }
      ]
    },
    {
      "cell_type": "code",
      "metadata": {
        "id": "x8_z-8as13xp",
        "colab_type": "code",
        "colab": {
          "base_uri": "https://localhost:8080/",
          "height": 187
        },
        "outputId": "ef99a2b6-faa4-42b7-b55a-bef5200d89b5"
      },
      "source": [
        "## 次元数を増やす\n",
        "z = x.unsqueeze(0)  # 0次元目に挿入する\n",
        "print(z)\n",
        "print(z.shape)\n",
        "\n",
        "## 余計な次元数を削除する\n",
        "w = z.squeeze()   \n",
        "print(w)\n",
        "print(w.shape)"
      ],
      "execution_count": 10,
      "outputs": [
        {
          "output_type": "stream",
          "text": [
            "tensor([[[0.3899, 0.1953, 0.3071],\n",
            "         [0.5096, 0.4703, 0.9532],\n",
            "         [0.6491, 0.0475, 0.4665],\n",
            "         [0.7235, 0.6609, 0.1311]]])\n",
            "torch.Size([1, 4, 3])\n",
            "tensor([[0.3899, 0.1953, 0.3071],\n",
            "        [0.5096, 0.4703, 0.9532],\n",
            "        [0.6491, 0.0475, 0.4665],\n",
            "        [0.7235, 0.6609, 0.1311]])\n",
            "torch.Size([4, 3])\n"
          ],
          "name": "stdout"
        }
      ]
    },
    {
      "cell_type": "code",
      "metadata": {
        "id": "bKH5p6fP2_vd",
        "colab_type": "code",
        "colab": {
          "base_uri": "https://localhost:8080/",
          "height": 34
        },
        "outputId": "99c4fbca-28ea-405a-8b7c-9e24a25f3df6"
      },
      "source": [
        "# 最大値をとるインデックスを求める\n",
        "z = torch.tensor([[0.8, 0.2],\n",
        "                  [0.1, 0.9],\n",
        "                  [0.4, 0.6]])\n",
        "print(torch.argmax(z, 1))"
      ],
      "execution_count": 11,
      "outputs": [
        {
          "output_type": "stream",
          "text": [
            "tensor([0, 1, 1])\n"
          ],
          "name": "stdout"
        }
      ]
    },
    {
      "cell_type": "markdown",
      "metadata": {
        "id": "FJXoObZS39_C",
        "colab_type": "text"
      },
      "source": [
        "## ニューラルネットワークを作ろう"
      ]
    },
    {
      "cell_type": "markdown",
      "metadata": {
        "id": "CEBc1H8D4CfY",
        "colab_type": "text"
      },
      "source": [
        "torch.nnにはニューラルネットワークを作るための部品があります。"
      ]
    },
    {
      "cell_type": "code",
      "metadata": {
        "id": "vxvSCvq327iJ",
        "colab_type": "code",
        "colab": {}
      },
      "source": [
        "from torch import nn\n",
        "from torch import optim\n",
        "import torch.nn.functional as F"
      ],
      "execution_count": 12,
      "outputs": []
    },
    {
      "cell_type": "markdown",
      "metadata": {
        "id": "87n2cTRW44sz",
        "colab_type": "text"
      },
      "source": [
        "一番基本のLinear関数を定義してみます。"
      ]
    },
    {
      "cell_type": "code",
      "metadata": {
        "id": "LVIb3c0L41OS",
        "colab_type": "code",
        "colab": {
          "base_uri": "https://localhost:8080/",
          "height": 51
        },
        "outputId": "23718be9-5470-4637-bcb8-93ff29dc729b"
      },
      "source": [
        "x = torch.rand(4, 2)\n",
        "print(x.shape)\n",
        "fc = nn.Linear(2, 1)\n",
        "out = fc(x)\n",
        "print(out.shape)"
      ],
      "execution_count": 13,
      "outputs": [
        {
          "output_type": "stream",
          "text": [
            "torch.Size([4, 2])\n",
            "torch.Size([4, 1])\n"
          ],
          "name": "stdout"
        }
      ]
    },
    {
      "cell_type": "markdown",
      "metadata": {
        "id": "HPYIGtfuM0cX",
        "colab_type": "text"
      },
      "source": [
        "というわけで簡単なニューラルネットワークを作ってみましょう。 \\\n",
        "流れとしては、 \\\n",
        "1、データセットの作成 \\\n",
        "2、モデルの定義 \\\n",
        "3、学習、評価 \\\n",
        "という感じでやります。\n",
        "\n",
        "今回はXORを学習するネットワークを作成します。 "
      ]
    },
    {
      "cell_type": "code",
      "metadata": {
        "id": "LvvaKjkgDoFn",
        "colab_type": "code",
        "colab": {}
      },
      "source": [
        "# 学習用のデータ\n",
        "dataset_x = torch.tensor([[0., 0.],\n",
        "                          [0., 1.],\n",
        "                          [1., 0.],\n",
        "                          [1., 1.]])\n",
        "\n",
        "# 学習用のラベル。\n",
        "dataset_y = torch.tensor([0, 1, 1, 0])"
      ],
      "execution_count": 154,
      "outputs": []
    },
    {
      "cell_type": "markdown",
      "metadata": {
        "id": "artNQuSyXsi-",
        "colab_type": "text"
      },
      "source": [
        "次にモデルクラスを定義します。"
      ]
    },
    {
      "cell_type": "code",
      "metadata": {
        "id": "HxlDd2Np5wsC",
        "colab_type": "code",
        "colab": {}
      },
      "source": [
        "class Net(nn.Module):\n",
        "  # コンストラクタ\n",
        "  def __init__(self):\n",
        "    super(Net, self).__init__()\n",
        "    self.fc1 = nn.Linear(2, 32)  # 中間層\n",
        "    self.fc2 = nn.Linear(32, 32) # 中間層2\n",
        "    self.fc3 = nn.Linear(32, 2)  # 出力層 : 0か1の二値分類\n",
        "    \n",
        "  # forwardメソッドを定義する。(forwardという名前じゃなきゃダメです。)\n",
        "  def forward(self, input):\n",
        "    out = F.relu(self.fc1(input))\n",
        "    out = F.relu(self.fc2(out))\n",
        "    out = self.fc3(out)\n",
        "    return out"
      ],
      "execution_count": 156,
      "outputs": []
    },
    {
      "cell_type": "markdown",
      "metadata": {
        "id": "43CmCLvtXy6M",
        "colab_type": "text"
      },
      "source": [
        "最後に学習用のコードを書きます。 \\\n",
        "学習は \\\n",
        "1、オプティマイザーの勾配をリセットする。\\\n",
        "2、データをモデルに適用する。\\\n",
        "3、誤差を求める \\\n",
        "4、誤差を逆伝搬 \\\n",
        "5、オプティマイザーを更新する。 \\\n",
        "を1セットとしてこれを何度も繰り返します。"
      ]
    },
    {
      "cell_type": "code",
      "metadata": {
        "id": "eM8mklhU9wx3",
        "colab_type": "code",
        "colab": {
          "base_uri": "https://localhost:8080/",
          "height": 119
        },
        "outputId": "d981de76-d9ac-481e-c66f-bdbaa83d76b8"
      },
      "source": [
        "model = Net()  # モデルを定義する。\n",
        "criterion = nn.CrossEntropyLoss()  # 誤差関数を定義する。\n",
        "optimizer = optim.SGD(model.parameters(), lr=0.1)  #オプティマイザーを定義する。\n",
        "\n",
        "optimizer.zero_grad()  # オプティマイザーの勾配をリセットする。\n",
        "output = model(dataset_x)  # データをモデルに通す\n",
        "print(output)\n",
        "print(output.shape)\n",
        "loss = criterion(output, dataset_y)  #誤差を求める\n",
        "print(loss)\n",
        "loss.backward()  # 誤差を逆伝搬する。\n",
        "optimizer.step()  # オプティマイザーを更新する。"
      ],
      "execution_count": 157,
      "outputs": [
        {
          "output_type": "stream",
          "text": [
            "tensor([[ 0.0742,  0.2253],\n",
            "        [ 0.0998,  0.2220],\n",
            "        [-0.1084,  0.2482],\n",
            "        [-0.0700,  0.2420]], grad_fn=<AddmmBackward>)\n",
            "torch.Size([4, 2])\n",
            "tensor(0.6994, grad_fn=<NllLossBackward>)\n"
          ],
          "name": "stdout"
        }
      ]
    },
    {
      "cell_type": "markdown",
      "metadata": {
        "id": "_1wWu0uGY-ln",
        "colab_type": "text"
      },
      "source": [
        "関数にまとめます。"
      ]
    },
    {
      "cell_type": "code",
      "metadata": {
        "id": "Vl3MU7vt_J0b",
        "colab_type": "code",
        "colab": {}
      },
      "source": [
        "def train(dataset_x, dataset_y, model, criterion, optimizer):\n",
        "  optimizer.zero_grad()  # 勾配を0にする。\n",
        "  output = model(dataset_x)  # モデルに適用する。\n",
        "  pred = torch.argmax(output, 1)\n",
        "  loss = criterion(output, dataset_y)\n",
        "  loss.backward()   # 逆伝搬\n",
        "  optimizer.step()  # オプティマイザーを更新\n",
        "  return pred, loss"
      ],
      "execution_count": 159,
      "outputs": []
    },
    {
      "cell_type": "markdown",
      "metadata": {
        "id": "Lw5m77caZBfs",
        "colab_type": "text"
      },
      "source": [
        "最後にこれを200エポック繰り返してみます。"
      ]
    },
    {
      "cell_type": "code",
      "metadata": {
        "id": "DU77VeQDAT9J",
        "colab_type": "code",
        "colab": {
          "base_uri": "https://localhost:8080/",
          "height": 357
        },
        "outputId": "4e24390b-6fdf-4713-922b-c296aa0676fb"
      },
      "source": [
        "model = Net()  # モデル\n",
        "criterion = nn.CrossEntropyLoss()  # 誤差関数\n",
        "optimizer = optim.SGD(model.parameters(), lr=0.1)  # 最適化関数\n",
        "\n",
        "for i in range(200):\n",
        "  pred, loss = train(dataset_x, dataset_y, model, criterion, optimizer)\n",
        "  if i % 10 == 0:\n",
        "    print(f'epoch{i} : {loss} , {pred}')\n"
      ],
      "execution_count": 165,
      "outputs": [
        {
          "output_type": "stream",
          "text": [
            "epoch0 : 0.7092825770378113 , tensor([1, 1, 1, 1])\n",
            "epoch10 : 0.6823376417160034 , tensor([1, 1, 1, 0])\n",
            "epoch20 : 0.6682143211364746 , tensor([1, 0, 1, 0])\n",
            "epoch30 : 0.6521492004394531 , tensor([1, 0, 1, 0])\n",
            "epoch40 : 0.6309375762939453 , tensor([0, 0, 1, 0])\n",
            "epoch50 : 0.6034440398216248 , tensor([0, 0, 1, 0])\n",
            "epoch60 : 0.5658319592475891 , tensor([0, 1, 1, 0])\n",
            "epoch70 : 0.5177656412124634 , tensor([0, 1, 1, 0])\n",
            "epoch80 : 0.45663219690322876 , tensor([0, 1, 1, 0])\n",
            "epoch90 : 0.3899196982383728 , tensor([0, 1, 1, 0])\n",
            "epoch100 : 0.3166232705116272 , tensor([0, 1, 1, 0])\n",
            "epoch110 : 0.249177485704422 , tensor([0, 1, 1, 0])\n",
            "epoch120 : 0.18965952098369598 , tensor([0, 1, 1, 0])\n",
            "epoch130 : 0.1424504965543747 , tensor([0, 1, 1, 0])\n",
            "epoch140 : 0.10893275588750839 , tensor([0, 1, 1, 0])\n",
            "epoch150 : 0.08398713916540146 , tensor([0, 1, 1, 0])\n",
            "epoch160 : 0.06632223725318909 , tensor([0, 1, 1, 0])\n",
            "epoch170 : 0.053558193147182465 , tensor([0, 1, 1, 0])\n",
            "epoch180 : 0.04409826919436455 , tensor([0, 1, 1, 0])\n",
            "epoch190 : 0.03701144829392433 , tensor([0, 1, 1, 0])\n"
          ],
          "name": "stdout"
        }
      ]
    }
  ]
}